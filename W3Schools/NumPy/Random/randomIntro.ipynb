{
 "cells": [
  {
   "cell_type": "code",
   "execution_count": 3,
   "metadata": {},
   "outputs": [
    {
     "name": "stdout",
     "output_type": "stream",
     "text": [
      "27\n"
     ]
    }
   ],
   "source": [
    "# Generate a random integer from 0 to 100:\n",
    "from numpy import random\n",
    "\n",
    "x = random.randint(100)\n",
    "\n",
    "print(x)"
   ]
  },
  {
   "cell_type": "code",
   "execution_count": 7,
   "metadata": {},
   "outputs": [
    {
     "name": "stdout",
     "output_type": "stream",
     "text": [
      "0.712616763758148\n"
     ]
    }
   ],
   "source": [
    "# Generate a random float from 0 to 1:\n",
    "x = random.rand()\n",
    "\n",
    "print(x)"
   ]
  },
  {
   "cell_type": "code",
   "execution_count": 8,
   "metadata": {},
   "outputs": [
    {
     "name": "stdout",
     "output_type": "stream",
     "text": [
      "[ 0 36 92 89 44]\n"
     ]
    }
   ],
   "source": [
    "# Generate a 1-D array containing 5 random integers from 0 to 100:\n",
    "x=random.randint(100, size=(5))\n",
    "\n",
    "print(x)"
   ]
  },
  {
   "cell_type": "code",
   "execution_count": 10,
   "metadata": {},
   "outputs": [
    {
     "name": "stdout",
     "output_type": "stream",
     "text": [
      "[[58 91 18 16 14]\n",
      " [85 56 66 53 42]\n",
      " [36 99 56 91 76]]\n"
     ]
    }
   ],
   "source": [
    "# Generate a 2-D array with 3 rows, each row containing 5 random integers from 0 to 100:\n",
    "x = random.randint(100, size=(3, 5))\n",
    "\n",
    "print(x)"
   ]
  },
  {
   "cell_type": "markdown",
   "metadata": {},
   "source": [
    "choice()"
   ]
  },
  {
   "cell_type": "code",
   "execution_count": 18,
   "metadata": {},
   "outputs": [
    {
     "name": "stdout",
     "output_type": "stream",
     "text": [
      "9\n"
     ]
    }
   ],
   "source": [
    "# Return one of the values in an array:\n",
    "x = random.choice([3, 5, 7, 9])\n",
    "\n",
    "print(x)"
   ]
  },
  {
   "cell_type": "code",
   "execution_count": 19,
   "metadata": {},
   "outputs": [
    {
     "name": "stdout",
     "output_type": "stream",
     "text": [
      "[[3 5 3 9 3]\n",
      " [5 3 7 9 5]\n",
      " [5 3 9 9 5]]\n"
     ]
    }
   ],
   "source": [
    "# Generate a 2-D array that consists of the values in the array parameter (3, 5, 7, and 9):\n",
    "x = random.choice([3, 5, 7, 9], size=(3, 5))\n",
    "\n",
    "print(x)"
   ]
  },
  {
   "cell_type": "markdown",
   "metadata": {},
   "source": [
    "Generate a 1-D array containing 100 values, where each value has to be 3, 5, 7 or 9.\n",
    "\n",
    "The probability for the value to be 3 is set to be 0.1\n",
    "\n",
    "The probability for the value to be 5 is set to be 0.3\n",
    "\n",
    "The probability for the value to be 7 is set to be 0.6\n",
    "\n",
    "The probability for the value to be 9 is set to be 0"
   ]
  },
  {
   "cell_type": "code",
   "execution_count": 20,
   "metadata": {},
   "outputs": [
    {
     "name": "stdout",
     "output_type": "stream",
     "text": [
      "[7 7 3 7 5 5 3 7 7 5 7 7 7 3 5 7 5 7 5 7 7 7 5 3 3 7 5 7 7 7 5 7 7 5 5 7 7\n",
      " 7 7 7 5 7 5 7 5 5 3 5 7 3 7 5 5 5 3 3 5 5 7 7 7 7 7 5 7 7 7 7 7 7 5 7 5 7\n",
      " 5 3 3 5 7 7 7 7 7 3 7 7 5 5 3 5 5 7 7 7 3 3 3 3 7 7]\n"
     ]
    }
   ],
   "source": [
    "x = random.choice([3, 5, 7, 9], p=[0.1, 0.3, 0.6, 0.0], size=(100))\n",
    "\n",
    "print(x)"
   ]
  },
  {
   "cell_type": "code",
   "execution_count": 22,
   "metadata": {},
   "outputs": [
    {
     "name": "stdout",
     "output_type": "stream",
     "text": [
      "[[7 7 7 7 3]\n",
      " [7 7 7 7 5]\n",
      " [7 5 7 7 5]]\n"
     ]
    }
   ],
   "source": [
    "# Same example as above, but return a 2-D array with 3 rows, each containing 5 values.\n",
    "x = random.choice([3, 5, 7, 9], p=[0.1, 0.3, 0.6, 0.0], size=(3, 5))\n",
    "\n",
    "print(x)"
   ]
  }
 ],
 "metadata": {
  "kernelspec": {
   "display_name": "Python 3",
   "language": "python",
   "name": "python3"
  },
  "language_info": {
   "codemirror_mode": {
    "name": "ipython",
    "version": 3
   },
   "file_extension": ".py",
   "mimetype": "text/x-python",
   "name": "python",
   "nbconvert_exporter": "python",
   "pygments_lexer": "ipython3",
   "version": "3.12.4"
  }
 },
 "nbformat": 4,
 "nbformat_minor": 2
}
