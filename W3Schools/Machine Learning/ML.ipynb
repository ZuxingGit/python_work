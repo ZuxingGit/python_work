{
 "cells": [
  {
   "cell_type": "markdown",
   "metadata": {},
   "source": [
    "# [Getting Started](https://www.w3schools.com/python/python_ml_getting_started.asp)\n",
    "Analyzing data and predicting the outcome!\n",
    "## Data Set\n",
    "## Data Types\n",
    "## [Mean Median Mode](https://www.w3schools.com/python/python_ml_mean_median_mode.asp)\n",
    "### Mean"
   ]
  },
  {
   "cell_type": "code",
   "execution_count": 1,
   "metadata": {},
   "outputs": [
    {
     "name": "stdout",
     "output_type": "stream",
     "text": [
      "89.76923076923077\n"
     ]
    }
   ],
   "source": [
    "import numpy\n",
    "\n",
    "speed = [99,86,87,88,111,86,103,87,94,78,77,85,86]\n",
    "\n",
    "x = numpy.mean(speed)\n",
    "\n",
    "print(x)"
   ]
  },
  {
   "cell_type": "markdown",
   "metadata": {},
   "source": [
    "### Median\n",
    "The median value is the value in the middle, after you have sorted all the values:"
   ]
  },
  {
   "cell_type": "code",
   "execution_count": 2,
   "metadata": {},
   "outputs": [
    {
     "name": "stdout",
     "output_type": "stream",
     "text": [
      "87.0\n"
     ]
    }
   ],
   "source": [
    "speed = [99,86,87,88,111,86,103,87,94,78,77,85,86]\n",
    "\n",
    "x = numpy.median(speed)\n",
    "\n",
    "print(x)"
   ]
  },
  {
   "cell_type": "markdown",
   "metadata": {},
   "source": [
    "If there are two numbers in the middle, divide the sum of those numbers by two."
   ]
  },
  {
   "cell_type": "code",
   "execution_count": 3,
   "metadata": {},
   "outputs": [
    {
     "name": "stdout",
     "output_type": "stream",
     "text": [
      "86.5\n"
     ]
    }
   ],
   "source": [
    "speed = [99,86,87,88,86,103,87,94,78,77,85,86]\n",
    "\n",
    "x = numpy.median(speed)\n",
    "\n",
    "print(x)"
   ]
  },
  {
   "cell_type": "markdown",
   "metadata": {},
   "source": [
    "### Mode\n",
    "The Mode value is the value that appears the most number of times:"
   ]
  },
  {
   "cell_type": "code",
   "execution_count": 4,
   "metadata": {},
   "outputs": [
    {
     "name": "stdout",
     "output_type": "stream",
     "text": [
      "ModeResult(mode=86, count=3)\n"
     ]
    }
   ],
   "source": [
    "from scipy import stats\n",
    "\n",
    "speed = [99,86,87,88,111,86,103,87,94,78,77,85,86]\n",
    "\n",
    "x = stats.mode(speed)\n",
    "\n",
    "print(x)"
   ]
  },
  {
   "cell_type": "markdown",
   "metadata": {},
   "source": [
    "# Standard Deviation\n",
    "\n",
    "Standard deviation is a number that describes how spread out the values are.\n",
    "\n",
    "A low standard deviation means that most of the numbers are close to the mean (average) value.\n",
    "\n",
    "A high standard deviation means that the values are spread out over a wider range."
   ]
  },
  {
   "cell_type": "code",
   "execution_count": 5,
   "metadata": {},
   "outputs": [
    {
     "name": "stdout",
     "output_type": "stream",
     "text": [
      "0.9035079029052513\n"
     ]
    }
   ],
   "source": [
    "speed = [86,87,88,86,87,85,86]\n",
    "\n",
    "x = numpy.std(speed)\n",
    "\n",
    "print(x)"
   ]
  },
  {
   "cell_type": "code",
   "execution_count": 6,
   "metadata": {},
   "outputs": [
    {
     "name": "stdout",
     "output_type": "stream",
     "text": [
      "37.84501153334721\n"
     ]
    }
   ],
   "source": [
    "speed = [32,111,138,28,59,77,97]\n",
    "\n",
    "x = numpy.std(speed)\n",
    "\n",
    "print(x)"
   ]
  },
  {
   "cell_type": "markdown",
   "metadata": {},
   "source": [
    "## Variance\n",
    "Variance is another number that indicates how spread out the values are.\n",
    "\n",
    "In fact, if you take the square root of the variance, you get the standard deviation!\n",
    "\n",
    "Or the other way around, if you multiply the standard deviation by itself, you get the variance!\n",
    "\n",
    "To calculate the variance you have to do as follows:\n",
    "\n",
    "1. Find the mean:\n",
    "\n",
    "2. For each value: find the difference from the mean:\n",
    "\n",
    "3. For each difference: find the square value:\n",
    "\n",
    "4. The variance is the average number of these squared differences:"
   ]
  },
  {
   "cell_type": "code",
   "execution_count": 9,
   "metadata": {},
   "outputs": [
    {
     "name": "stdout",
     "output_type": "stream",
     "text": [
      "1432.2448979591834\n",
      "37.84501153334721\n"
     ]
    }
   ],
   "source": [
    "import math\n",
    "\n",
    "speed = [32,111,138,28,59,77,97]\n",
    "\n",
    "x = numpy.var(speed)\n",
    "\n",
    "print(x)\n",
    "print(math.sqrt(x))"
   ]
  },
  {
   "cell_type": "markdown",
   "metadata": {},
   "source": [
    "## Symbols\n",
    "Standard Deviation is often represented by the symbol Sigma: σ\n",
    "\n",
    "Variance is often represented by the symbol Sigma Squared: σ^2"
   ]
  },
  {
   "cell_type": "markdown",
   "metadata": {},
   "source": [
    "# Percentiles\n",
    "Percentiles are used in statistics to give you a number that describes the value that a given percent of the values are lower than."
   ]
  },
  {
   "cell_type": "markdown",
   "metadata": {},
   "source": [
    "What is the 75. percentile? The answer is 43, meaning that 75% of the people are 43 or younger."
   ]
  },
  {
   "cell_type": "code",
   "execution_count": 10,
   "metadata": {},
   "outputs": [
    {
     "name": "stdout",
     "output_type": "stream",
     "text": [
      "43.0\n"
     ]
    }
   ],
   "source": [
    "ages = [5,31,43,48,50,41,7,11,15,39,80,82,32,2,8,6,25,36,27,61,31]\n",
    "\n",
    "x = numpy.percentile(ages, 75)\n",
    "\n",
    "print(x)"
   ]
  },
  {
   "cell_type": "markdown",
   "metadata": {},
   "source": [
    "What is the age that 90% of the people are younger than?"
   ]
  },
  {
   "cell_type": "code",
   "execution_count": 11,
   "metadata": {},
   "outputs": [
    {
     "name": "stdout",
     "output_type": "stream",
     "text": [
      "61.0\n"
     ]
    }
   ],
   "source": [
    "x = numpy.percentile(ages, 90)\n",
    "\n",
    "print(x)"
   ]
  },
  {
   "cell_type": "markdown",
   "metadata": {},
   "source": [
    "# Data Distribution\n",
    "Earlier in this tutorial we have worked with very small amounts of data in our examples, just to understand the different concepts.\n",
    "\n",
    "In the real world, the data sets are much bigger, but it can be difficult to gather real world data, at least at an early stage of a project.\n",
    "\n",
    "## How Can we Get Big Data Sets?\n",
    "To create big data sets for testing, we use the Python module NumPy, which comes with a number of methods to create random data sets, of any size."
   ]
  },
  {
   "cell_type": "code",
   "execution_count": 12,
   "metadata": {},
   "outputs": [
    {
     "name": "stdout",
     "output_type": "stream",
     "text": [
      "[1.37165589 2.22929674 4.49619261 3.8575451  2.85561216 0.26293019\n",
      " 1.03363471 0.64953871 3.74944087 4.24976844 4.98761784 0.96363516\n",
      " 2.7977369  2.21788171 0.5968028  4.36182953 0.65910633 4.3103771\n",
      " 3.45939175 0.59828539 4.99371775 4.81713263 4.11412036 2.42143166\n",
      " 0.62171034 3.54601533 4.55887263 1.43491229 1.59545132 2.91638246\n",
      " 3.73356702 3.33034816 2.49447511 2.471097   3.58151889 2.43325203\n",
      " 0.1160387  2.57279303 3.74577626 3.89489967 3.28906712 0.44358825\n",
      " 0.11079171 0.48552162 3.54576281 2.42607277 0.85719574 3.46045215\n",
      " 3.11140055 1.77276688 4.89068379 3.15112678 1.60988149 3.6936837\n",
      " 4.4329342  4.24703126 4.37160174 2.18163159 1.21630178 0.93719568\n",
      " 2.79555707 0.79506037 4.21404369 3.16141503 1.82315181 4.07703049\n",
      " 4.93404323 4.23807642 1.81098084 1.74511592 4.51055248 2.77208013\n",
      " 0.59738147 3.97174253 4.29276735 2.04646281 3.8834774  4.09079843\n",
      " 2.58594712 3.68893638 3.612245   3.61690923 1.46679768 3.99277219\n",
      " 3.30517958 3.83309071 3.42429469 2.58701099 0.67741578 4.47779381\n",
      " 0.58209088 1.89888523 1.91903811 3.08461061 4.84007303 3.58908377\n",
      " 0.85232905 1.88155474 1.25167228 0.12101196 4.66666696 2.35146885\n",
      " 1.67795168 4.67897907 0.61461108 4.65921684 3.90447159 2.82508428\n",
      " 2.55013757 1.78643795 4.66878883 0.46663409 1.07645004 2.1878156\n",
      " 4.03238666 0.1060172  4.61791124 4.71125012 3.62939563 0.3744192\n",
      " 3.02754766 4.26143057 0.18258684 4.68306942 2.25077008 2.38771801\n",
      " 3.43473412 1.31777089 0.74974893 4.8009755  3.9994134  2.5981692\n",
      " 3.68028934 3.61989597 4.97762416 3.92234671 2.69886087 1.52802473\n",
      " 4.98375294 4.62848152 3.06228259 1.13087924 4.59020354 2.76299576\n",
      " 1.5833155  4.00235822 3.37866426 4.74997031 3.00476294 4.5573323\n",
      " 1.4149937  2.87243746 3.55366031 3.79166031 4.5142195  4.83736914\n",
      " 2.0730836  4.02213616 4.33984958 3.96952614 1.37963337 2.28750903\n",
      " 2.43958757 2.48608995 0.32711383 1.98145216 1.3624998  4.39456518\n",
      " 3.93757096 1.08569469 2.69131854 2.55510791 4.8879736  0.05924224\n",
      " 0.85099522 4.69188551 1.50211207 4.88022415 1.17147188 3.21598654\n",
      " 0.99299403 1.84609617 1.44710898 3.82507436 3.59782145 0.20850949\n",
      " 0.37882808 3.37140332 3.29813161 3.08851024 1.79882501 1.74894694\n",
      " 4.37874929 3.64185151 2.51407942 2.09575128 4.99324347 2.11228741\n",
      " 3.3435268  4.29306627 3.7117603  3.5589671  0.35187392 1.71462888\n",
      " 4.46860576 1.75994261 2.46024979 0.15980502 2.75707823 3.27508041\n",
      " 2.72928661 3.94714299 4.10735039 2.93679143 3.58535019 0.8911829\n",
      " 1.50996852 2.23404449 0.71190453 0.7449775  2.42651304 1.36695726\n",
      " 4.03088314 1.44812496 0.49213289 2.18182801 2.29599683 4.17367347\n",
      " 4.0960759  4.85465852 1.60278675 0.37176209 2.12782639 2.67212853\n",
      " 4.89847995 4.51974871 3.86281776 2.43168649 1.24503205 0.14244653\n",
      " 4.58709397 1.15596462 4.21307281 1.63023558 4.1752682  2.75265141\n",
      " 3.33585186 3.78884061 4.95934031 1.39200212]\n"
     ]
    }
   ],
   "source": [
    "# Create an array containing 250 random floats between 0 and 5:\n",
    "\n",
    "x = numpy.random.uniform(0.0, 5.0, 250)\n",
    "\n",
    "print(x)"
   ]
  },
  {
   "cell_type": "markdown",
   "metadata": {},
   "source": [
    "## Histogram\n",
    "To visualize the data set we can draw a histogram with the data we collected.\n",
    "\n",
    "We will use the Python module Matplotlib to draw a histogram.\n",
    "\n",
    "Learn about the Matplotlib module in our Matplotlib Tutorial."
   ]
  },
  {
   "cell_type": "code",
   "execution_count": 20,
   "metadata": {},
   "outputs": [
    {
     "data": {
      "image/png": "[encoded data removed]",
      "text/plain": [
       "<Figure size 640x480 with 1 Axes>"
      ]
     },
     "metadata": {},
     "output_type": "display_data"
    }
   ],
   "source": [
    "# Draw a histogram:\n",
    "import matplotlib.pyplot as plt\n",
    "\n",
    "x = numpy.random.uniform(0.0, 5.0, 250)\n",
    "\n",
    "plt.hist(x, 5)\n",
    "plt.show()"
   ]
  },
  {
   "cell_type": "markdown",
   "metadata": {},
   "source": [
    "The first bar represents how many values in the array are between 0 and 1.\n",
    "\n",
    "The second bar represents how many values are between 1 and 2. Etc."
   ]
  },
  {
   "cell_type": "markdown",
   "metadata": {},
   "source": [
    "## Big Data Distributions\n",
    "An array containing 250 values is not considered very big, but now you know how to create a random set of values, and by changing the parameters, you can create the data set as big as you want.\n",
    "\n",
    "Create an array with 100000 random numbers, and display them using a histogram with 100 bars:"
   ]
  },
  {
   "cell_type": "code",
   "execution_count": 21,
   "metadata": {},
   "outputs": [
    {
     "data": {
      "image/png": "[encoded data removed]",
      "text/plain": [
       "<Figure size 640x480 with 1 Axes>"
      ]
     },
     "metadata": {},
     "output_type": "display_data"
    }
   ],
   "source": [
    "x = numpy.random.uniform(0.0, 5.0, 100000)\n",
    "\n",
    "plt.hist(x, 100)\n",
    "plt.show()"
   ]
  }
 ],
 "metadata": {
  "kernelspec": {
   "display_name": "Python 3",
   "language": "python",
   "name": "python3"
  },
  "language_info": {
   "codemirror_mode": {
    "name": "ipython",
    "version": 3
   },
   "file_extension": ".py",
   "mimetype": "text/x-python",
   "name": "python",
   "nbconvert_exporter": "python",
   "pygments_lexer": "ipython3",
   "version": "3.12.4"
  }
 },
 "nbformat": 4,
 "nbformat_minor": 2
}
