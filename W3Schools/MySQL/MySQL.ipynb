{
 "cells": [
  {
   "cell_type": "markdown",
   "metadata": {},
   "source": [
    "# Get Started\n",
    "## Test MySQL Connector\n",
    "To test if the installation was successful, or if you already have \"MySQL Connector\" installed, create a Python page with the following content:"
   ]
  },
  {
   "cell_type": "code",
   "execution_count": 1,
   "metadata": {},
   "outputs": [],
   "source": [
    "import mysql.connector"
   ]
  },
  {
   "cell_type": "markdown",
   "metadata": {},
   "source": [
    "## Create Connection\n",
    "Start by creating a connection to the database.\n",
    "\n",
    "Use the username and password from your MySQL database:"
   ]
  },
  {
   "cell_type": "code",
   "execution_count": 3,
   "metadata": {},
   "outputs": [
    {
     "name": "stdout",
     "output_type": "stream",
     "text": [
      "<mysql.connector.connection_cext.CMySQLConnection object at 0x10e136db0>\n"
     ]
    }
   ],
   "source": [
    "# demo_mysql_connection.py:\n",
    "\n",
    "mydb = mysql.connector.connect(\n",
    "  host=\"localhost\",\n",
    "  user=\"root\",\n",
    "  password=\"88889999\"\n",
    ")\n",
    "\n",
    "print(mydb)\n"
   ]
  },
  {
   "cell_type": "markdown",
   "metadata": {},
   "source": [
    "# Creating a Database\n",
    "To create a database in MySQL, use the \"CREATE DATABASE\" statement:"
   ]
  },
  {
   "cell_type": "code",
   "execution_count": 4,
   "metadata": {},
   "outputs": [],
   "source": [
    "# create a database named \"mydatabase\":\n",
    "mycursor = mydb.cursor()\n",
    "mycursor.execute(\"CREATE DATABASE mydatabase\")"
   ]
  },
  {
   "cell_type": "markdown",
   "metadata": {},
   "source": [
    "## Check if Database Exists\n",
    "You can check if a database exist by listing all databases in your system by using the \"SHOW DATABASES\" statement:"
   ]
  },
  {
   "cell_type": "code",
   "execution_count": 5,
   "metadata": {},
   "outputs": [
    {
     "name": "stdout",
     "output_type": "stream",
     "text": [
      "('information_schema',)\n",
      "('mydatabase',)\n",
      "('mysql',)\n",
      "('performance_schema',)\n",
      "('sys',)\n"
     ]
    }
   ],
   "source": [
    "# Return a list of your system's databases:\n",
    "mycursor.execute(\"SHOW DATABASES\")\n",
    "\n",
    "for x in mycursor:\n",
    "    print(x)"
   ]
  },
  {
   "cell_type": "markdown",
   "metadata": {},
   "source": [
    "Or you can try to access the database when making the connection:"
   ]
  },
  {
   "cell_type": "code",
   "execution_count": 6,
   "metadata": {},
   "outputs": [],
   "source": [
    "# Try connecting to the database \"mydatabase\":\n",
    "\n",
    "import mysql.connector\n",
    "\n",
    "mydb = mysql.connector.connect(\n",
    "  host=\"localhost\",\n",
    "  user=\"root\",\n",
    "  password=\"88889999\",\n",
    "  database=\"mydatabase\"\n",
    ")"
   ]
  },
  {
   "cell_type": "markdown",
   "metadata": {},
   "source": [
    "# Create Table\n",
    "To create a table in MySQL, use the \"CREATE TABLE\" statement.\n",
    "\n",
    "Make sure you define the name of the database when you create the connection"
   ]
  },
  {
   "cell_type": "code",
   "execution_count": 10,
   "metadata": {},
   "outputs": [],
   "source": [
    "# Create a table named \"customers\"\n",
    "mycursor = mydb.cursor()\n",
    "mycursor.execute(\"CREATE TABLE customers (name VARCHAR(255), address VARCHAR(255))\")"
   ]
  },
  {
   "cell_type": "markdown",
   "metadata": {},
   "source": [
    "## Check if Table Exists\n",
    "You can check if a table exist by listing all tables in your database with the \"SHOW TABLES\" statement:"
   ]
  },
  {
   "cell_type": "code",
   "execution_count": 11,
   "metadata": {},
   "outputs": [
    {
     "name": "stdout",
     "output_type": "stream",
     "text": [
      "('customers',)\n"
     ]
    }
   ],
   "source": [
    "# Return a list of your system's databases:\n",
    "mycursor.execute(\"SHOW TABLES\")\n",
    "\n",
    "for x in mycursor:\n",
    "    print(x)"
   ]
  },
  {
   "cell_type": "markdown",
   "metadata": {},
   "source": [
    "## Primary Key\n",
    "When creating a table, you should also create a column with a unique key for each record.\n",
    "\n",
    "This can be done by defining a PRIMARY KEY.\n",
    "\n",
    "We use the statement \"`INT AUTO_INCREMENT PRIMARY KEY`\" which will insert a unique number for each record. Starting at 1, and increased by one for each record."
   ]
  },
  {
   "cell_type": "code",
   "execution_count": 13,
   "metadata": {},
   "outputs": [],
   "source": [
    "# Create primary key when creating the table:\n",
    "# delete the table first\n",
    "mycursor.execute(\"DROP TABLE customers\")\n",
    "mycursor.execute(\"CREATE TABLE customers (id INT AUTO_INCREMENT PRIMARY KEY, name VARCHAR(255), address VARCHAR(255))\")"
   ]
  },
  {
   "cell_type": "markdown",
   "metadata": {},
   "source": [
    "If the table already exists, use the `ALTER TABLE` keyword:"
   ]
  },
  {
   "cell_type": "code",
   "execution_count": 15,
   "metadata": {},
   "outputs": [],
   "source": [
    "mycursor.execute(\"DROP TABLE customers\")\n",
    "mycursor.execute(\"CREATE TABLE customers (name VARCHAR(255), address VARCHAR(255))\")\n",
    "# Create primary key on an existing table:\n",
    "mycursor.execute(\"ALTER TABLE customers ADD COLUMN id INT AUTO_INCREMENT PRIMARY KEY\")"
   ]
  },
  {
   "cell_type": "markdown",
   "metadata": {},
   "source": [
    "# Insert Into Table\n",
    "To fill a table in MySQL, use the 'INSERT INTO' statement."
   ]
  },
  {
   "cell_type": "code",
   "execution_count": 16,
   "metadata": {},
   "outputs": [
    {
     "name": "stdout",
     "output_type": "stream",
     "text": [
      "1 record inserted.\n"
     ]
    }
   ],
   "source": [
    "# insert a record in the \"customers\" table:\n",
    "mycursor = mydb.cursor()\n",
    "\n",
    "sql = \"INSERT INTO customers (name, address) VALUES (%s, %s)\"\n",
    "val = (\"John\", \"Highway 21\")\n",
    "mycursor.execute(sql, val)\n",
    "\n",
    "mydb.commit()\n",
    "\n",
    "print(mycursor.rowcount, \"record inserted.\")"
   ]
  },
  {
   "cell_type": "markdown",
   "metadata": {},
   "source": [
    "## Insert Multiple Rows\n",
    "To insert multiple rows into a table, use the `executemany()` method.\n",
    "\n",
    "The second parameter of the `executemany()` method is a list of tuples, containing the data you want to insert:"
   ]
  },
  {
   "cell_type": "code",
   "execution_count": 18,
   "metadata": {},
   "outputs": [
    {
     "name": "stdout",
     "output_type": "stream",
     "text": [
      "13 was inserted.\n"
     ]
    }
   ],
   "source": [
    "# Fill the \"customers\" table with data:\n",
    "import mysql.connector\n",
    "\n",
    "mydb = mysql.connector.connect(\n",
    "  host=\"localhost\",\n",
    "  user=\"root\",\n",
    "  password=\"88889999\",\n",
    "  database=\"mydatabase\"\n",
    ")\n",
    "\n",
    "mycursor = mydb.cursor()\n",
    "\n",
    "sql = \"INSERT INTO customers (name, address) VALUES (%s, %s)\"\n",
    "val = [\n",
    "  ('Peter', 'Lowstreet 4'),\n",
    "  ('Amy', 'Apple st 652'),\n",
    "  ('Hannah', 'Mountain 21'),\n",
    "  ('Michael', 'Valley 345'),\n",
    "  ('Sandy', 'Ocean blvd 2'),\n",
    "  ('Betty', 'Green Grass 1'),\n",
    "  ('Richard', 'Sky st 331'),\n",
    "  ('Susan', 'One way 98'),\n",
    "  ('Vicky', 'Yellow Garden 2'),\n",
    "  ('Ben', 'Park Lane 38'),\n",
    "  ('William', 'Central st 954'),\n",
    "  ('Chuck', 'Main Road 989'),\n",
    "  ('Viola', 'Sideway 1633')\n",
    "]\n",
    "\n",
    "mycursor.executemany(sql, val)\n",
    "\n",
    "mydb.commit()\n",
    "\n",
    "print(mycursor.rowcount, \"record was inserted.\")"
   ]
  },
  {
   "cell_type": "markdown",
   "metadata": {},
   "source": [
    "## Get Inserted ID\n",
    "You can get the id of the row you just inserted by asking the cursor object.\n",
    "\n",
    "Note: If you insert more than one row, the id of the last inserted row is returned."
   ]
  },
  {
   "cell_type": "code",
   "execution_count": 20,
   "metadata": {},
   "outputs": [
    {
     "name": "stdout",
     "output_type": "stream",
     "text": [
      "1 record inserted, ID: 15\n"
     ]
    }
   ],
   "source": [
    "# Insert one row, and return the ID:\n",
    "import mysql.connector\n",
    "\n",
    "mydb = mysql.connector.connect(\n",
    "  host=\"localhost\",\n",
    "  user=\"root\",\n",
    "  password=\"88889999\",\n",
    "  database=\"mydatabase\"\n",
    ")\n",
    "\n",
    "mycursor = mydb.cursor()\n",
    "\n",
    "sql = \"INSERT INTO customers (name, address) VALUES (%s, %s)\"\n",
    "val = (\"Michelle\", \"Blue Village\")\n",
    "mycursor.execute(sql, val)\n",
    "\n",
    "mydb.commit()\n",
    "\n",
    "print(\"1 record inserted, ID:\", mycursor.lastrowid)"
   ]
  },
  {
   "cell_type": "markdown",
   "metadata": {},
   "source": [
    "# Select From\n",
    "To select from a table in MySQL, use the \"SELECT\" statement:"
   ]
  },
  {
   "cell_type": "code",
   "execution_count": 21,
   "metadata": {},
   "outputs": [
    {
     "name": "stdout",
     "output_type": "stream",
     "text": [
      "('John', 'Highway 21', 1)\n",
      "('Peter', 'Lowstreet 4', 2)\n",
      "('Amy', 'Apple st 652', 3)\n",
      "('Hannah', 'Mountain 21', 4)\n",
      "('Michael', 'Valley 345', 5)\n",
      "('Sandy', 'Ocean blvd 2', 6)\n",
      "('Betty', 'Green Grass 1', 7)\n",
      "('Richard', 'Sky st 331', 8)\n",
      "('Susan', 'One way 98', 9)\n",
      "('Vicky', 'Yellow Garden 2', 10)\n",
      "('Ben', 'Park Lane 38', 11)\n",
      "('William', 'Central st 954', 12)\n",
      "('Chuck', 'Main Road 989', 13)\n",
      "('Viola', 'Sideway 1633', 14)\n",
      "('Michelle', 'Blue Village', 15)\n"
     ]
    }
   ],
   "source": [
    "# Select all records from the \"customers\" table, and display the result:\n",
    "import mysql.connector\n",
    "\n",
    "mydb = mysql.connector.connect(\n",
    "  host=\"localhost\",\n",
    "  user=\"root\",\n",
    "  password=\"88889999\",\n",
    "  database=\"mydatabase\"\n",
    ")\n",
    "\n",
    "mycursor = mydb.cursor()\n",
    "\n",
    "mycursor.execute(\"SELECT * FROM customers\")\n",
    "\n",
    "myresult = mycursor.fetchall()\n",
    "\n",
    "for x in myresult:\n",
    "  print(x)"
   ]
  },
  {
   "cell_type": "markdown",
   "metadata": {},
   "source": [
    "**Note**: We use the `fetchall()` method, which fetches all rows from the last executed statement."
   ]
  },
  {
   "cell_type": "markdown",
   "metadata": {},
   "source": [
    "## Selecting Columns\n",
    "To select only some of the columns in a table, use the \"SELECT\" statement followed by the column name(s):"
   ]
  },
  {
   "cell_type": "code",
   "execution_count": 27,
   "metadata": {},
   "outputs": [
    {
     "name": "stdout",
     "output_type": "stream",
     "text": [
      "('John', 'Highway 21')\n",
      "('Peter', 'Lowstreet 4')\n",
      "('Amy', 'Apple st 652')\n",
      "('Hannah', 'Mountain 21')\n",
      "('Michael', 'Valley 345')\n",
      "('Sandy', 'Ocean blvd 2')\n",
      "('Betty', 'Green Grass 1')\n",
      "('Richard', 'Sky st 331')\n",
      "('Susan', 'One way 98')\n",
      "('Vicky', 'Yellow Garden 2')\n",
      "('Ben', 'Park Lane 38')\n",
      "('William', 'Central st 954')\n",
      "('Chuck', 'Main Road 989')\n",
      "('Viola', 'Sideway 1633')\n",
      "('Michelle', 'Blue Village')\n"
     ]
    }
   ],
   "source": [
    "# Select only the name and address columns:\n",
    "import mysql.connector\n",
    "\n",
    "mydb = mysql.connector.connect(\n",
    "  host=\"localhost\",\n",
    "  user=\"root\",\n",
    "  password=\"88889999\",\n",
    "  database=\"mydatabase\"\n",
    ")\n",
    "\n",
    "mycursor = mydb.cursor()\n",
    "\n",
    "mycursor.execute(\"SELECT name, address FROM customers\")\n",
    "\n",
    "myresult = mycursor.fetchall()\n",
    "\n",
    "for x in myresult:\n",
    "  print(x)"
   ]
  },
  {
   "cell_type": "markdown",
   "metadata": {},
   "source": [
    "## Using the fetchone() Method\n",
    "If you are only interested in one row, you can use the `fetchone()` method.\n",
    "\n",
    "The `fetchone()` method will return the first row of the result:"
   ]
  },
  {
   "cell_type": "code",
   "execution_count": 23,
   "metadata": {},
   "outputs": [
    {
     "name": "stdout",
     "output_type": "stream",
     "text": [
      "('John', 'Highway 21', 1)\n"
     ]
    }
   ],
   "source": [
    "# Fetch only one row:\n",
    "mycursor.execute(\"SELECT * FROM customers\")\n",
    "\n",
    "myresult = mycursor.fetchone()\n",
    "\n",
    "print(myresult)"
   ]
  },
  {
   "cell_type": "markdown",
   "metadata": {},
   "source": [
    "# Where\n",
    "## Select With a Filter\n",
    "When selecting records from a table, you can filter the selection by using the \"WHERE\" statement:"
   ]
  },
  {
   "cell_type": "code",
   "execution_count": 28,
   "metadata": {},
   "outputs": [
    {
     "name": "stdout",
     "output_type": "stream",
     "text": [
      "('Ben', 'Park Lane 38', 11)\n"
     ]
    }
   ],
   "source": [
    "# Select record(s) where the address is \"Park Lane 38\": result:\n",
    "sql = \"SELECT * FROM customers WHERE address ='Park Lane 38'\"\n",
    "\n",
    "mycursor.execute(sql)\n",
    "\n",
    "myresult = mycursor.fetchall()\n",
    "\n",
    "for x in myresult:\n",
    "    print(x)"
   ]
  },
  {
   "cell_type": "markdown",
   "metadata": {},
   "source": [
    "## Wildcard Characters\n",
    "You can also select the records that starts, includes, or ends with a given letter or phrase.\n",
    "\n",
    "Use the `%` to represent wildcard characters:"
   ]
  },
  {
   "cell_type": "code",
   "execution_count": 29,
   "metadata": {},
   "outputs": [
    {
     "name": "stdout",
     "output_type": "stream",
     "text": [
      "('John', 'Highway 21', 1)\n",
      "('Susan', 'One way 98', 9)\n",
      "('Viola', 'Sideway 1633', 14)\n"
     ]
    }
   ],
   "source": [
    "# Select records where the address contains the word \"way\":\n",
    "sql = \"SELECT * FROM customers WHERE address LIKE '%way%'\"\n",
    "\n",
    "mycursor.execute(sql)\n",
    "\n",
    "myresult = mycursor.fetchall()\n",
    "\n",
    "for x in myresult:\n",
    "    print(x)"
   ]
  },
  {
   "cell_type": "markdown",
   "metadata": {},
   "source": [
    "## Prevent SQL Injection\n",
    "When query values are provided by the user, you should escape the values.\n",
    "\n",
    "This is to prevent SQL injections, which is a common web hacking technique to destroy or misuse your database.\n",
    "\n",
    "The mysql.connector module has methods to escape query values:"
   ]
  },
  {
   "cell_type": "code",
   "execution_count": 30,
   "metadata": {},
   "outputs": [
    {
     "name": "stdout",
     "output_type": "stream",
     "text": [
      "('Vicky', 'Yellow Garden 2', 10)\n"
     ]
    }
   ],
   "source": [
    "# Escape query values by using the placholder %s method:\n",
    "sql = \"SELECT * FROM customers WHERE address = %s\"\n",
    "adr = (\"Yellow Garden 2\", )\n",
    "\n",
    "mycursor.execute(sql, adr)\n",
    "\n",
    "myresult = mycursor.fetchall()\n",
    "\n",
    "for x in myresult:\n",
    "  print(x)"
   ]
  }
 ],
 "metadata": {
  "kernelspec": {
   "display_name": "Python 3",
   "language": "python",
   "name": "python3"
  },
  "language_info": {
   "codemirror_mode": {
    "name": "ipython",
    "version": 3
   },
   "file_extension": ".py",
   "mimetype": "text/x-python",
   "name": "python",
   "nbconvert_exporter": "python",
   "pygments_lexer": "ipython3",
   "version": "3.12.4"
  }
 },
 "nbformat": 4,
 "nbformat_minor": 2
}
